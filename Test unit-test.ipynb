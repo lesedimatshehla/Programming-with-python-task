{
 "cells": [
  {
   "cell_type": "markdown",
   "id": "2267b900",
   "metadata": {},
   "source": [
    "**Full name:** Lesedi Kopeledi Matshehla  \n",
    "    \n",
    "**Unit testing framework.**  \n",
    "    \n",
    "**Description of the Task:** Python-program that uses training data to choose the four ideal\n",
    "functions which are the best fit out of the fifty provided (C) *. You get (A) 4 training datasets and\n",
    "(B) one test dataset, as well as (C) datasets for 50 ideal functions. All data respectively consists of\n",
    "x-y-pairs of values.\n"
   ]
  },
  {
   "cell_type": "code",
   "execution_count": null,
   "id": "db77a89f",
   "metadata": {},
   "outputs": [],
   "source": [
    "import unittest\n",
    "import pandas as pd\n",
    "\n",
    "class TestDataWrangler(unittest.TestCase):\n",
    "    '''\n",
    "    Test the DataWrangler Class\n",
    "    '''\n",
    "    def test_load_data(self):\n",
    "        '''\n",
    "        test the load_data method that it successfully\n",
    "        constructed a dataframe from the .csv file\n",
    "        '''\n",
    "        #self.dataWrangler = DataWrangler(\"test.csv\")\n",
    "        self.dataset = pd.read_csv(\"test.csv\")\n",
    "        self.df_data = pd.DataFrame(self.dataset)\n",
    "        self.assertNotEqual(isinstance(self.df_data, pd.DataFrame), True, \"The returned value is of type DataFrame\")\n",
    "        # self.assertEqual(isinstance(self.df_data, pd.DataFrame), True, \"The returned value is of type DataFrame\")\n",
    "        \n",
    "    def test_shape_of_data(self):\n",
    "        '''\n",
    "        test the shape_data method that it successfully\n",
    "        returns the shape of the dataframe constructed\n",
    "        '''\n",
    "        self.dataset = pd.read_csv(\"test.csv\")\n",
    "        self.df_data = pd.DataFrame(self.dataset)\n",
    "        df_shape = self.df_data.shape\n",
    "        self.assertEqual(df_shape[0], 100, \"The tuple contains at index 0, the value 100,\"+\n",
    "                     \" which is our number of rows\")\n",
    "        self.assertEqual(df_shape[1], 2, \"The tuple contains at index 1, the value 2,\"+\n",
    "                     \" which is our number of columns\")\n",
    "    \n",
    "    def test_summary_statistics(self):\n",
    "        '''\n",
    "        test the summary_statistics method that it successfully\n",
    "        returns a dataframe bearing the summary statistics of each dataframe column\n",
    "        '''\n",
    "        self.dataset = pd.read_csv(\"test.csv\")\n",
    "        self.df_data = pd.DataFrame(self.dataset)\n",
    "        self.df_summary = self.df_data.describe()\n",
    "        self.assertEqual(self.df_summary.loc['mean','x'], 0.299000000000003, \"The mean value of x column\"+\n",
    "                     \" was truly computed\")\n",
    "        self.assertEqual(self.df_summary.loc['mean','y'], 0.3254828044499999, \"The mean value of y column\"+\n",
    "                     \" was truly computed\")\n",
    "        \n",
    "        \n",
    "if __name__ == \"__main__\":\n",
    "    unittest.main()"
   ]
  }
 ],
 "metadata": {
  "kernelspec": {
   "display_name": "Python 3 (ipykernel)",
   "language": "python",
   "name": "python3"
  },
  "language_info": {
   "codemirror_mode": {
    "name": "ipython",
    "version": 3
   },
   "file_extension": ".py",
   "mimetype": "text/x-python",
   "name": "python",
   "nbconvert_exporter": "python",
   "pygments_lexer": "ipython3",
   "version": "3.9.13"
  }
 },
 "nbformat": 4,
 "nbformat_minor": 5
}
